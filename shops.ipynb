{
 "cells": [
  {
   "cell_type": "code",
   "execution_count": 1,
   "metadata": {},
   "outputs": [],
   "source": [
    "import requests\n",
    "from bs4 import BeautifulSoup"
   ]
  },
  {
   "cell_type": "code",
   "execution_count": 2,
   "metadata": {},
   "outputs": [],
   "source": [
    "url = 'https://www.yell.ru/moscow/top/parikmakherskie/?page=1'\n",
    "headers = {\n",
    "    'User-Agent': 'My User Agent 1.0',\n",
    "    # 'From': 'youremail@domain.example'  # This is another valid field\n",
    "}\n",
    "\n",
    "r = requests.get(url, headers=headers)\n",
    "\n",
    "soup = BeautifulSoup(r.text, \"html.parser\")\n",
    "l = soup.find_all('div', class_='companies__item-container')"
   ]
  },
  {
   "cell_type": "code",
   "execution_count": 55,
   "metadata": {},
   "outputs": [],
   "source": [
    "# from flaskr.db import get_db\n",
    "\n",
    "def get_info(shop):\n",
    "\tlink = 'https://www.yell.ru' + shop.find('a', class_='companies__item-title-text').get('href')\n",
    "\tshop_page = requests.get(link, headers=headers)\n",
    "\t# return(shop_page)\n",
    "\tsoup = BeautifulSoup(shop_page.text, \"html.parser\")\n",
    "\tshort_discription = soup.find('div', class_='company__infopage-slider-item-text').text.strip()\n",
    "\tdiscription = soup.find('div', class_='company__description').text.strip()\n",
    "\tplace = soup.find('span', {'class': 'company__contacts-item-text', 'itemprop': \"streetAddress\"})\n",
    "\t# place.find('br').replace_with(' ')\n",
    "\tplace = place.text.strip()\n",
    "\tschedule = [x.text.strip() for x in soup.find_all('div', class_='company__working-time-item')]\n",
    "\timg = soup.find('div', class_='company__infopage-logo')\n",
    "\tif img: img = img.find('img')['src']\n",
    "\t# img_data = requests.get(img).content\n",
    "\n",
    "\treturn{'short_discription': short_discription, 'discription': discription, 'place': place, 'schedule': schedule, 'icon': img}\n",
    "\n",
    "shops = []\n",
    "\n",
    "for shop in l:\n",
    "\t\ttitle = shop.find('a', class_='companies__item-title-text').text.strip()\n",
    "\t\tinfo = get_info(shop)\n",
    "\t\tinfo['title'] = title\n",
    "\t\tshops.append(info)\n",
    "\t\t# print(info['icon'])\n",
    "\t\t# input()"
   ]
  },
  {
   "cell_type": "code",
   "execution_count": 160,
   "metadata": {},
   "outputs": [],
   "source": [
    "import json\n",
    "with open('data.json', 'w', encoding='utf-8') as f:\n",
    "    json.dump(shops, f, ensure_ascii=False, indent=4)"
   ]
  },
  {
   "cell_type": "code",
   "execution_count": 166,
   "metadata": {},
   "outputs": [],
   "source": [
    "import json\n",
    "with open('flaskr/data.json', encoding='utf-8') as f:\n",
    "    data = json.load(f)"
   ]
  },
  {
   "cell_type": "code",
   "execution_count": 168,
   "metadata": {},
   "outputs": [
    {
     "data": {
      "text/plain": [
       "{'short_discription': 'Дом красоты RUSSIAN LEGEND – уникальное творческое пространство, где создаются легендарные образы, доступные всем. Чемпионы и призеры по парикмахерскому искусству, декоративной косметике, косметологии, ногтевому сервису создадут вам образ, который понравится всем окружающим.',\n",
       " 'discription': 'Дом красоты RUSSIAN LEGEND – уникальное творческое пространство, где создаются легендарные образы, доступные всем.Чемпионы и призеры по парикмахерскому искусству, декоративной косметике, косметологии, ногтевому сервису создадут вам образ, который понравится всем окружающим. Мягкий диван, уютная зона ожидания, бесплатный wi-fi, горячий чай или кофе станут отличным дополнением к легендарному качеству услуг.Мастера работают на косметике премиум-класса, все инструменты и поверхности проходят обработку. В студии установлен ионизатор воздуха для заботы о здоровье клиентов.В легендарном зале парикмахерского искусства вам сделают стрижку, укладку, окрашивание, мелирование, подберут уход за волосами. Стилисты ждут для преображения мужчин, женщин и детей. Невестам откроют грани красоты и индивидуальности, создав свадебную прическу с элементами сложного плетения кос.Специалисты по моделированию ногтей воплотят в жизнь любой дизайн, сделают маникюр и педикюр, удалят вросший ноготь. Косметологи омолодят, скорректируют фигуру с помощью гиалуроновой кислоты, ботокса, контурной пластики и специальных программ.В салоне индивидуально подбирают образ: делают стрижку, укладку, окрашивание, макияж, разрабатывают корпоративный стиль, анализируют гардероб. Запишитесь в студию, получите имидж мечты. Записаться можно по телефону, указанному на странице организации.Ищите нас в соцсетях: Вконтакте, ТелеграммИнформация скопирована с Yell.ru - https://www.yell.ru/moscow/com/dom-krasoty-russian-legend_12004922/',\n",
       " 'place': 'г Москва, пер Брюсов, д 8/101 этаж',\n",
       " 'schedule': ['Пн  10:00 - 22:00',\n",
       "  'Вт  10:00 - 22:00',\n",
       "  'Ср  10:00 - 22:00',\n",
       "  'Чт  10:00 - 22:00',\n",
       "  'Пт  10:00 - 22:00',\n",
       "  'Сб  10:00 - 22:00',\n",
       "  'Вс  10:00 - 22:00'],\n",
       " 'icon': 'https://image2.yell.ru/responses/6/8/4/r_2462573_16387_u2o72zz1myb1ninj_1679979819.jpg',\n",
       " 'title': 'Дом красоты RUSSIAN LEGEND'}"
      ]
     },
     "execution_count": 168,
     "metadata": {},
     "output_type": "execute_result"
    }
   ],
   "source": [
    "data[0]"
   ]
  }
 ],
 "metadata": {
  "kernelspec": {
   "display_name": "haircut-HSVc6Fw1-py3.11",
   "language": "python",
   "name": "python3"
  },
  "language_info": {
   "codemirror_mode": {
    "name": "ipython",
    "version": 3
   },
   "file_extension": ".py",
   "mimetype": "text/x-python",
   "name": "python",
   "nbconvert_exporter": "python",
   "pygments_lexer": "ipython3",
   "version": "3.11.2"
  },
  "orig_nbformat": 4
 },
 "nbformat": 4,
 "nbformat_minor": 2
}
